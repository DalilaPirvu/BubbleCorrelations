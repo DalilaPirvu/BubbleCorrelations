{
 "cells": [
  {
   "cell_type": "markdown",
   "metadata": {},
   "source": [
    "# Peak Correlations"
   ]
  },
  {
   "cell_type": "code",
   "execution_count": 1,
   "metadata": {},
   "outputs": [],
   "source": [
    "import numpy as np\n",
    "import math\n",
    "import matplotlib\n",
    "import matplotlib.pyplot as plt\n",
    "import scipy as scp\n",
    "import scipy.optimize as sco\n",
    "import scipy.signal as scs\n",
    "from itertools import groupby, cycle\n",
    "import scipy.ndimage\n",
    "from scipy.ndimage import gaussian_filter1d\n",
    "import statistics as stat\n",
    "from scipy.stats import moment\n",
    "from collections import OrderedDict\n",
    "import random\n",
    "from numpy import load as load\n",
    "\n",
    "np_load_old = load\n",
    "np.load = lambda *a,**k: np_load_old(*a, allow_pickle=True, **k)"
   ]
  },
  {
   "cell_type": "markdown",
   "metadata": {},
   "source": [
    "### Simulation Parameters "
   ]
  },
  {
   "cell_type": "code",
   "execution_count": 4,
   "metadata": {},
   "outputs": [
    {
     "data": {
      "text/plain": [
       "0.20304977661060114"
      ]
     },
     "execution_count": 4,
     "metadata": {},
     "output_type": "execute_result"
    }
   ],
   "source": [
    "2./(39.39920611359256/4.)"
   ]
  },
  {
   "cell_type": "code",
   "execution_count": 2,
   "metadata": {},
   "outputs": [
    {
     "name": "stdout",
     "output_type": "stream",
     "text": [
      "lamb =  1.5\n",
      "phi0 =  0.8975979010256552\n",
      "m2eff =  0.01\n",
      "lenLat =  3162.2776601683795\n",
      "thresh  [0.1901665 0.380333  0.5704995]\n",
      "times  [0]\n",
      "dx, dk, spec, dtout/dt 0.3860202221885229 0.0019869176531592202 256 8192.0\n"
     ]
    }
   ],
   "source": [
    "nLat = 8192\n",
    "nTime = 1\n",
    "nSims = 5000\n",
    "simStep = 1000\n",
    "\n",
    "lamb = 1.5; print('lamb = ', lamb)\n",
    "phi0 = 2*np.pi/7.; print('phi0 = ', phi0)\n",
    "nu = 2.*10**(-3)\n",
    "m2eff = 4. * nu * (- 1. + lamb**2); print('m2eff = ', m2eff)\n",
    "lenLat = 8 * 0.5 * 50. / np.sqrt(2. * nu); print('lenLat = ', lenLat)\n",
    "\n",
    "# Choose smoothing scale\n",
    "filter_size = 39.39920611359256/4.; sigma0 = 0.380333 # for phi0 6.6: 0.358599\n",
    "\n",
    "#filter_size = 20.597556445406827; sigma0 = 0.297928\n",
    "\n",
    "#filter_size = 39.39920611359256; sigma0 = 0.228233\n",
    "\n",
    "# Do you or do you not need to map all peaks\n",
    "bool = True\n",
    "\n",
    "# Detection threshold\n",
    "#list_threshold = sigma0*np.asarray([0.5, 1., 1.2, 1.3, 1.4, 1.5, 1.6, 1.8, 2., 2.5])\n",
    "list_threshold = sigma0*np.asarray([0.5, 1., 1.5]); print('thresh ', list_threshold)\n",
    "\n",
    "# Timeslices\n",
    "list_times = np.arange(0, nTime, 20); print('times ', list_times)\n",
    "\n",
    "# Data binning\n",
    "xmax = 400\n",
    "xstep = 2\n",
    "xrange = np.arange(1, xmax, xstep)\n",
    "\n",
    "phi_initial = np.pi; nyq = nLat//2+1; spec = nyq//16; dx = lenLat/nLat\n",
    "dk = 2.*np.pi/lenLat; alpha = 16.; dt = dx/alpha; dtout = dt*nLat/nTime\n",
    "print('dx, dk, spec, dtout/dt', dx, dk, spec, dtout/dt)"
   ]
  },
  {
   "cell_type": "code",
   "execution_count": 3,
   "metadata": {},
   "outputs": [
    {
     "data": {
      "text/plain": [
       "1.9340040075583198"
      ]
     },
     "execution_count": 3,
     "metadata": {},
     "output_type": "execute_result"
    }
   ],
   "source": [
    "(spec * dk) * filter_size *dx"
   ]
  },
  {
   "cell_type": "code",
   "execution_count": 4,
   "metadata": {},
   "outputs": [
    {
     "data": {
      "text/plain": [
       "0.34008112568710674"
      ]
     },
     "execution_count": 4,
     "metadata": {},
     "output_type": "execute_result"
    }
   ],
   "source": [
    "np.sqrt(4*nu) * filter_size *dx"
   ]
  },
  {
   "cell_type": "code",
   "execution_count": 5,
   "metadata": {},
   "outputs": [
    {
     "data": {
      "text/plain": [
       "415.84594249851114"
      ]
     },
     "execution_count": 5,
     "metadata": {},
     "output_type": "execute_result"
    }
   ],
   "source": [
    "nLat//2/filter_size"
   ]
  },
  {
   "cell_type": "markdown",
   "metadata": {},
   "source": [
    "### Get Data "
   ]
  },
  {
   "cell_type": "code",
   "execution_count": 6,
   "metadata": {},
   "outputs": [],
   "source": [
    "instanton_location = '/home/dpirvu/inst/instantons/dev/bubcorr_instanton_sim.dat'\n",
    "plots_file = '/home/dpirvu/big_plot_file/new_new_bubble_correlations/free_field/'\n",
    "suffix = '_for_phi0{:.4f}'.format(phi0)+'_len{:.4f}'.format(lenLat)+'_lamb{:.4f}'.format(lamb)+'_x'+str(nLat)\n",
    "outfile_save = '/home/dpirvu/pickle_location/new_new_bubble_correlations/free_field/'\n",
    "\n",
    "def sim_location(sim):\n",
    "    return '/gpfs/dpirvu/bubble_correlations/free_x'+str(nLat)+'_phi0{:.4f}'.format(phi0)+'_lamb{:.4f}'.format(lamb)+'_spec256_sim'+str(sim)+'_fields.dat'\n",
    "def sim_location_corr(sim):\n",
    "    return '/gpfs/dpirvu/bubble_correlations/free_corr_x'+str(nLat)+'_phi0{:.4f}'.format(phi0)+'_lamb{:.4f}'.format(lamb)+'_spec256_sim'+str(sim)+'_fields.dat'\n",
    "def targets_file_free(maxSim, threshold, filter):\n",
    "    return outfile_save+'targets_sims'+str(maxSim)+'_threshold{:.4f}'.format(threshold)+'_filter{:.4f}'.format(filter)+suffix+'.npy'\n",
    "def targets_file_corr(maxSim, threshold, filter, timeslice):\n",
    "    return outfile_save+'corr_targets_sims'+str(maxSim)+'_threshold{:.4f}'.format(threshold)+'_filter{:.4f}'.format(filter)+'_time'+str(timeslice)+suffix+'.npy'\n",
    "def corr_file_free(threshold, step, filter):\n",
    "    return outfile_save+'correlator_threshold{:.4f}'.format(threshold)+'_filter{:.4f}'.format(filter)+'_step'+str(step)+suffix+'.npy'\n",
    "def corr_file_corr(threshold, step, filter, timeslice):\n",
    "    return outfile_save+'corr_correlator_threshold{:.4f}'.format(threshold)+'_filter{:.4f}'.format(filter)+'_step'+str(step)+'_time'+str(timeslice)+suffix+'.npy'\n",
    "def thcorr_file(threshold, filter):\n",
    "    return outfile_save+'th_correlator_threshold{:.4f}'.format(threshold)+'_filter{:.4f}'.format(filter)+suffix+'.npy'\n",
    "\n",
    "def find_peak_positions(slice, threshold):\n",
    "    \"\"\" Finds x coordinate of peaks in masked field with mask applied at threshold. \"\"\"\n",
    "    peak_coord = scs.find_peaks(slice, height = threshold)[0].tolist()\n",
    "    if slice[-1] >= threshold and slice[0] >= threshold and slice[-1] != slice[0]:\n",
    "        if slice[0] > slice[-1] and slice[0] > slice[1]:\n",
    "            peak_coord.append(0)\n",
    "        elif slice[0] < slice[-1] and slice[-1] > slice[-2]:\n",
    "            peak_coord.append(len(slice)-1) # this minds potential boundary discontinuities\n",
    "    return np.asarray(peak_coord)\n",
    "\n",
    "def smoothen(data, sigma):\n",
    "    normalisation = 1. / np.sqrt(2*np.pi) / sigma\n",
    "    kernel = [0.]*nLat\n",
    "    for j in range(1, nLat):\n",
    "        if j < nLat/2+1:\n",
    "            aa = j-1\n",
    "        else:\n",
    "            aa = nLat-j+1\n",
    "        kernel[j] = np.exp(- 0.5 * (aa/sigma)**2. ) * normalisation\n",
    "    kernel = np.asarray(kernel) / np.sum(kernel)\n",
    "    return np.fft.ifft(np.fft.fft(data) * np.fft.fft(kernel)).real"
   ]
  },
  {
   "cell_type": "code",
   "execution_count": 7,
   "metadata": {},
   "outputs": [],
   "source": [
    "#data = all_data[0][0][:]\n",
    "#THR = 0\n",
    "#data1 = -smoothen(data, filter_size)\n",
    "#pk1 = find_peak_positions(data1, THR)\n",
    "#data2 = -gaussian_filter1d(data, sigma=filter_size, mode='wrap')\n",
    "#pk2 = find_peak_positions(data2, THR)\n",
    "\n",
    "#plt.figure(figsize=(20, 5))\n",
    "#plt.plot(-data)\n",
    "#plt.plot(data1)\n",
    "#plt.plot(data2)\n",
    "#plt.plot(pk1, [data1[i] for i in pk1], 'ro')\n",
    "#plt.plot(pk2, [data2[i] for i in pk2], 'ko')\n",
    "\n",
    "#print(np.sort(pk1))\n",
    "#print(np.sort(pk2))"
   ]
  },
  {
   "cell_type": "markdown",
   "metadata": {},
   "source": [
    "### Correlation Functions"
   ]
  },
  {
   "cell_type": "code",
   "execution_count": 8,
   "metadata": {},
   "outputs": [],
   "source": [
    "def correlator(alltargets, R, RR):\n",
    "    DCorrelator = []\n",
    "    for sim in range(len(alltargets)):\n",
    "        bubbleCoords = alltargets[sim]\n",
    "        nBubbles = len(bubbleCoords)\n",
    "        area = 2*np.abs(RR-R)\n",
    "        bubNDens = nBubbles / nLat \n",
    "        bubCounter, nullCounter = 0., 0.\n",
    "        \n",
    "#        nullCoords = np.asarray(list(OrderedDict.fromkeys(random.choices(np.arange(nLat), k = 8*nBubbles))))\n",
    "#        nNull = len(nullCoords)\n",
    "\n",
    "        if nBubbles > 2:\n",
    "            for bubloc in range(nBubbles):\n",
    "                bdx = np.abs(bubbleCoords[bubloc] - bubbleCoords)\n",
    "                bdx = [ww if ww < nLat//2 else nLat - ww for ww in bdx]\n",
    "                bubCounter += len([l for l in bdx if R <= l < RR])\n",
    "            DCorrelator.append( bubCounter / (bubNDens * area * (nBubbles-1.)))\n",
    "\n",
    "#                ndx = np.abs(bubbleCoords[bubloc] - nullCoords)\n",
    "#                ndx = [ww if ww < nLat//2 else nLat - ww for ww in ndx]\n",
    "#                nullCounter += len([l for l in ndx if R <= l < RR])\n",
    "#            if nullCounter > 0:\n",
    "#                DCorrelator.append( (bubCounter * nNull) / (nullCounter * nBubbles) )\n",
    "    return np.mean(DCorrelator) - 1.\n",
    "    \n",
    "def empirical_corr_and_err(all_positive_targets, all_negative_targets, R, RR, simStep):\n",
    "    counter = []\n",
    "    simmer = np.arange(0, nSims, simStep)\n",
    "    for simMin, simMax in zip(simmer, simmer[1:]):\n",
    "        alltargets = all_positive_targets[simMin : simMax].tolist() + all_negative_targets[simMin : simMax].tolist()\n",
    "        counter.append(correlator(alltargets, R, RR))\n",
    "    counter = np.asarray([i for i in counter if not np.isnan(i)])\n",
    "    return np.nanmean(counter), stat.stdev(counter)/np.sqrt(len(counter))\n",
    "\n",
    "def correlation_functions(all_positive_targets, all_negative_targets, xrange, simStep):\n",
    "    return np.asarray([empirical_corr_and_err(all_positive_targets, all_negative_targets, R, RR, simStep) for R,RR in zip(xrange, xrange[1:])])"
   ]
  },
  {
   "cell_type": "code",
   "execution_count": 17,
   "metadata": {},
   "outputs": [],
   "source": [
    "all_data_phi07 = np.asarray([np.reshape(np.genfromtxt(sim_location(sim)),(nTime, nLat)) for sim in range(nSims)])"
   ]
  },
  {
   "cell_type": "code",
   "execution_count": 18,
   "metadata": {},
   "outputs": [
    {
     "data": {
      "text/plain": [
       "0.47773257041330347"
      ]
     },
     "execution_count": 18,
     "metadata": {},
     "output_type": "execute_result"
    }
   ],
   "source": [
    "np.std(all_data_phi07)"
   ]
  },
  {
   "cell_type": "code",
   "execution_count": 9,
   "metadata": {},
   "outputs": [],
   "source": [
    "all_data_phi066 = np.asarray([np.reshape(np.genfromtxt(sim_location(sim)),(nTime, nLat)) for sim in range(nSims)])"
   ]
  },
  {
   "cell_type": "code",
   "execution_count": 10,
   "metadata": {},
   "outputs": [
    {
     "data": {
      "text/plain": [
       "0.4504335663896867"
      ]
     },
     "execution_count": 10,
     "metadata": {},
     "output_type": "execute_result"
    }
   ],
   "source": [
    "np.std(all_data_phi066)"
   ]
  },
  {
   "cell_type": "code",
   "execution_count": 6,
   "metadata": {},
   "outputs": [
    {
     "name": "stdout",
     "output_type": "stream",
     "text": [
      "(500, 64, 8192)\n",
      "(500, 8192)\n"
     ]
    },
    {
     "name": "stderr",
     "output_type": "stream",
     "text": [
      "/cm/shared/apps/conda-environments/python37/lib/python3.7/site-packages/numpy/core/_asarray.py:136: VisibleDeprecationWarning: Creating an ndarray from ragged nested sequences (which is a list-or-tuple of lists-or-tuples-or ndarrays with different lengths or shapes) is deprecated. If you meant to do this, you must specify 'dtype=object' when creating the ndarray\n",
      "  return array(a, dtype, copy=False, order=order, subok=True)\n"
     ]
    },
    {
     "name": "stdout",
     "output_type": "stream",
     "text": [
      "Done\n",
      "Done\n",
      "(500, 8192)\n",
      "Done\n",
      "Done\n",
      "(500, 8192)\n",
      "Done\n",
      "Done\n",
      "(500, 8192)\n",
      "Done\n",
      "Done\n"
     ]
    }
   ],
   "source": [
    "if True:\n",
    "    all_data = np.asarray([np.reshape(np.genfromtxt(sim_location_corr(sim)),(nTime, nLat)) for sim in range(nSims)])\n",
    "    print(all_data.shape)\n",
    "    for timeslice in list_times:\n",
    "        all_slice_data = np.asarray([gaussian_filter1d(simulation[timeslice], sigma=filter_size, mode='wrap') for simulation in all_data])\n",
    "        print(all_slice_data.shape)\n",
    "\n",
    "        for threshold in list_threshold:\n",
    "            all_positive_targets, all_negative_targets = [], []\n",
    "            all_positive_targets += [find_peak_positions(simulation, threshold) for simulation in all_slice_data]\n",
    "            all_negative_targets += [find_peak_positions(-simulation, threshold) for simulation in all_slice_data]\n",
    "            np.save(targets_file_corr(nSims, threshold, filter_size, timeslice), [all_positive_targets, all_negative_targets])\n",
    "            print('Done')\n",
    "\n",
    "    del all_data"
   ]
  },
  {
   "cell_type": "code",
   "execution_count": 9,
   "metadata": {},
   "outputs": [],
   "source": [
    "#rms = np.sqrt(np.mean((all_data-np.pi)**2))\n",
    "#print(rms)"
   ]
  },
  {
   "cell_type": "code",
   "execution_count": 10,
   "metadata": {},
   "outputs": [],
   "source": [
    "#np.std(all_data)"
   ]
  },
  {
   "cell_type": "code",
   "execution_count": 9,
   "metadata": {},
   "outputs": [
    {
     "name": "stdout",
     "output_type": "stream",
     "text": [
      "Done\n",
      "Done\n",
      "Done\n",
      "Done\n",
      "Done\n",
      "Done\n",
      "Done\n",
      "Done\n"
     ]
    }
   ],
   "source": [
    "for timeslice in list_times:\n",
    "    for threshold in list_threshold[::]:\n",
    "        all_positive_targets, all_negative_targets = np.load(targets_file_corr(nSims, threshold, filter_size, timeslice))\n",
    "    #    print(len([item for sublist in all_positive_targets for item in sublist])/nLat/len(all_positive_targets))\n",
    "        corr_data = correlation_functions(all_positive_targets, all_negative_targets, xrange, simStep)\n",
    "        np.save(corr_file_corr(threshold, xstep, filter_size, timeslice), corr_data)\n",
    "        print('Done')"
   ]
  },
  {
   "cell_type": "markdown",
   "metadata": {},
   "source": [
    "### Plotting "
   ]
  },
  {
   "cell_type": "code",
   "execution_count": 79,
   "metadata": {},
   "outputs": [],
   "source": [
    "tableau1 = [(50, 162, 81), (172,217,141), (255,127,15), (255,185,119), (60,183,204), (152,217,228), (184,90,13), (255,217,74), (57,115,124), (134,180,169), (130,133,59), (204,201,77)]\n",
    "for i in range(len(tableau1)):\n",
    "    r, g, b = tableau1[i]\n",
    "    tableau1[i] = (r / 255., g / 255., b / 255.)\n",
    "\n",
    "def plot_peak_correlators(xrange, filter):\n",
    "    mark = ['o', 'D', 's', '^', 'v', '*']\n",
    "    tabl = tableau1[::2]\n",
    "    labels = [r'$\\phi_{t} = \\,$']*len(list_threshold)\n",
    "    xlist = (0.2*(xrange[1:]-xrange[:-1]) + xrange[:-1])/filter\n",
    "#    xlist = xrange[:-1]/filter\n",
    "\n",
    "    fig, ax = plt.subplots(1, 1, figsize = (15, 8))\n",
    "    for jjj, threshold in enumerate(list_threshold[:1:]):\n",
    "        prediction0 = np.load(thcorr_file(threshold, filter_size))[:xrange[-1]]\n",
    "        prediction0 = gaussian_filter1d(prediction0, sigma=fldflt)\n",
    "        xaxis = np.arange(min(xrange), max(xrange)+1)[:len(prediction0)]/filter\n",
    "        plt.plot(xaxis, prediction0, color=tabl[jjj], ls='-', linewidth='3', alpha=0.5)\n",
    "        for www, timeslice in enumerate(list_times[::]):\n",
    "            print(www)\n",
    "            correlator_data = np.load(corr_file_corr(threshold, xstep, filter_size, timeslice))\n",
    "            corr, errcorr = gaussian_filter1d(correlator_data[:,0], sigma=fldflt), correlator_data[:,1]\n",
    "            plt.plot(xlist, corr, color=tabl[www], marker=mark[jjj], ms=2, alpha=1, label=labels[jjj]+str(threshold/sigma0)+r' $\\sigma_0$, t = '+str(timeslice))\n",
    "#            markers, caps, bars = plt.errorbar(xlist, corr, yerr=errcorr, linestyle='None', color=tabl[www], marker=mark[jjj], ms=1+2*www, alpha=1-0.25*www, ecolor=tabl[www], elinewidth=4, label=labels[jjj]+str(threshold/sigma0)+r' $\\sigma_0$, t = '+str(timeslice))\n",
    "#        ax.set_yscale('log')\n",
    "#        [bar.set_alpha(0.5) for bar in bars]\n",
    "#        [cap.set_alpha(0.5) for cap in caps]\n",
    "#    plt.xlim((0, 12))\n",
    "    plt.xlabel(r'$r/R_0$')\n",
    "    plt.ylabel(r'$\\xi_{pk}$')\n",
    "    plt.legend(loc='lower right')\n",
    "    plt.grid(alpha=0.8, linestyle='-', linewidth=0.5)\n",
    "    plt.savefig('/home/dpirvu/free_peak_correlator.pdf')\n",
    "    return\n",
    "\n",
    "def plot_peak_correlators(xrange, filter):\n",
    "    list_threshold = np.asarray([0.5, 1., 1.5, 2.])*sigma0\n",
    "    mark = ['o', 'D', 's', '^', 'v', '*']\n",
    "    tabl = tableau1[::]\n",
    "    labels = [r'$\\bar{\\phi}_{t} = $']*len(list_threshold)\n",
    "    xlist = xrange[:-1]/filter\n",
    "    fig, ax = plt.subplots(1, 1, figsize = (8, 3))\n",
    "    for jjj, threshold in enumerate(list_threshold[::]):\n",
    "        prediction0 = np.load(thcorr_file(threshold, filter_size))[:xrange[-1]]\n",
    "        prediction0 = gaussian_filter1d(prediction0, sigma=fldflt)\n",
    "        xaxis = np.arange(min(xrange), max(xrange)+1)[:len(prediction0)]/filter\n",
    "        plt.plot(xaxis, prediction0, color=tabl[jjj], ls=':', linewidth='1', alpha=1)\n",
    "\n",
    "        correlator_data = np.load(corr_file_free(threshold, xstep, filter_size))\n",
    "        corr, errcorr = gaussian_filter1d(correlator_data[:,0], sigma=fldflt), correlator_data[:,1]\n",
    "        markers, caps, bars = plt.errorbar(xlist, corr, yerr=errcorr, linestyle='None', color=tabl[jjj], marker=mark[jjj], ms=3, alpha=1, ecolor=tabl[jjj], elinewidth=4, label=labels[jjj]+str(threshold/sigma0)+r' $\\sigma_0$')\n",
    "#        ax.set_yscale('log')\n",
    "        [bar.set_alpha(0.5) for bar in bars]\n",
    "        [cap.set_alpha(0.5) for cap in caps]\n",
    "    plt.xlim((0, 16))\n",
    "    plt.xlabel(r'$r/R_0$')\n",
    "    plt.ylabel(r'$\\xi_{pk}$')\n",
    "    plt.legend(loc='lower right')\n",
    "    plt.grid(alpha=0.8, linestyle='dashed', linewidth=0.5)\n",
    "    plt.savefig('/home/dpirvu/free_peak_correlator.pdf')\n",
    "    return"
   ]
  },
  {
   "cell_type": "code",
   "execution_count": 80,
   "metadata": {},
   "outputs": [],
   "source": [
    "fldflt = 0.5"
   ]
  },
  {
   "cell_type": "code",
   "execution_count": 81,
   "metadata": {},
   "outputs": [
    {
     "data": {
      "image/png": "[encoded data removed]",
      "text/plain": [
       "<Figure size 576x216 with 1 Axes>"
      ]
     },
     "metadata": {
      "needs_background": "light"
     },
     "output_type": "display_data"
    }
   ],
   "source": [
    "plot_peak_correlators(xrange, filter_size)"
   ]
  },
  {
   "cell_type": "code",
   "execution_count": null,
   "metadata": {},
   "outputs": [],
   "source": []
  },
  {
   "cell_type": "code",
   "execution_count": null,
   "metadata": {},
   "outputs": [],
   "source": []
  }
 ],
 "metadata": {
  "kernelspec": {
   "display_name": "Python 3.7 (conda) - recommended",
   "language": "python",
   "name": "python37-conda"
  },
  "language_info": {
   "codemirror_mode": {
    "name": "ipython",
    "version": 3
   },
   "file_extension": ".py",
   "mimetype": "text/x-python",
   "name": "python",
   "nbconvert_exporter": "python",
   "pygments_lexer": "ipython3",
   "version": "3.7.0"
  }
 },
 "nbformat": 4,
 "nbformat_minor": 4
}
