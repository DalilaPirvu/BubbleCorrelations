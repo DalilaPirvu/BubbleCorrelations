{
 "cells": [
  {
   "cell_type": "markdown",
   "metadata": {},
   "source": [
    "# Bubble Correlations"
   ]
  },
  {
   "cell_type": "code",
   "execution_count": 2,
   "metadata": {},
   "outputs": [],
   "source": [
    "import numpy as np\n",
    "import math\n",
    "import statistics as stat\n",
    "import matplotlib\n",
    "from matplotlib import gridspec\n",
    "import matplotlib.pyplot as plt\n",
    "import scipy as scp\n",
    "import scipy.optimize as sco\n",
    "import scipy.signal as scs\n",
    "from itertools import cycle\n",
    "import random\n",
    "from numpy import load\n",
    "from mpl_toolkits.axes_grid1 import ImageGrid\n",
    "from matplotlib import ticker\n",
    "from collections import OrderedDict\n",
    "import matplotlib.colors as mcolors\n",
    "import scipy.ndimage\n",
    "from scipy.ndimage import gaussian_filter1d"
   ]
  },
  {
   "cell_type": "code",
   "execution_count": 3,
   "metadata": {},
   "outputs": [],
   "source": [
    "np_load_old = np.load\n",
    "np.load = lambda *a,**k: np_load_old(*a, allow_pickle=True, **k)"
   ]
  },
  {
   "cell_type": "markdown",
   "metadata": {},
   "source": [
    "### Simulation Parameters "
   ]
  },
  {
   "cell_type": "code",
   "execution_count": 4,
   "metadata": {},
   "outputs": [
    {
     "name": "stdout",
     "output_type": "stream",
     "text": [
      "splitdata  [    0  1000  2000  3000  4000  5000  6000  7000  8000  9000 10000 11000\n",
      " 12000 13000 14000 15000 16000 17000 18000 19000 20000 21000 22000 23000\n",
      " 24000 25000 26000 27000 28000 29000 30000]\n",
      "lenLat =  3162.2776601683795\n",
      "dx, dk, spec  0.3860202221885229 0.0019869176531592202 256\n",
      "dtout/dt =  32.0\n",
      "light_cone =  2\n",
      "units =  2.0\n"
     ]
    }
   ],
   "source": [
    "nLat = 8192\n",
    "nTime = 256\n",
    "nSims = 30000\n",
    "nSims0 = 0\n",
    "simStep = 1000\n",
    "splitdata = np.arange(nSims0, nSims+1, 1000); print('splitdata ', splitdata)\n",
    "\n",
    "nu = 2.*10**(-3)\n",
    "lenLat = 8 * 0.5 * 50. / np.sqrt(2. * nu); print('lenLat = ', lenLat)\n",
    "def m2eff(lamb):\n",
    "    return 4. * nu * (- 1. + lamb**2)\n",
    "\n",
    "phi_initial = np.pi\n",
    "nyq = nLat//2+1; spec = nyq//16; dx = lenLat/nLat; dk = 2.*np.pi/lenLat; print('dx, dk, spec ', dx, dk, spec)\n",
    "alpha = 16.; dt = dx/alpha; dtout = dt*nLat/nTime; print('dtout/dt = ', dtout/dt)\n",
    "light_cone = int(dtout/dx); print('light_cone = ', light_cone)\n",
    "unit_conv = nLat/nTime/alpha; print('units = ', unit_conv)\n",
    "\n",
    "ignore = 2\n",
    "tcheck = lambda lamb: int(ignore/np.sqrt(m2eff(lamb))/dtout)\n",
    "tTime = lambda lamb: nTime - tcheck(lamb)"
   ]
  },
  {
   "cell_type": "markdown",
   "metadata": {},
   "source": [
    "### Import the Data "
   ]
  },
  {
   "cell_type": "code",
   "execution_count": 4,
   "metadata": {},
   "outputs": [],
   "source": [
    "#correlator = \n",
    "#np.save(thrcorr_file(2, list_threshold[2], list_phi0[2], list_lamb[2]), correlator)"
   ]
  },
  {
   "cell_type": "code",
   "execution_count": 5,
   "metadata": {},
   "outputs": [],
   "source": [
    "plots_file = '/home/dpirvu/big_plot_file/new_new_bubble_correlations/'\n",
    "pickle_file = '/home/dpirvu/pickle_location/new_new_bubble_correlations/'\n",
    "\n",
    "def sim_location(sim):\n",
    "    return '/gpfs/dpirvu/bubble_correlations/t'+str(nTime)+'_x'+str(nLat)+'_len{:.4f}'.format(lenLat)+'_phi0{:.4f}'.format(phi0)+'_lamb{:.4f}'.format(lamb)+'_alph{:.4f}'.format(alpha)+'_spec'+str(spec)+'_sim'+str(sim)+'_fields.dat'\n",
    "def sim_suffix(phi0, lamb):\n",
    "    return '_for_phi0{:.4f}'.format(phi0)+'_lamb{:.4f}'.format(lamb)+'_x'+str(nLat)\n",
    "def pickle_location(phi0, lamb):\n",
    "    return pickle_file + 'phi0'+str(int(20*np.pi/phi0))+'_lambda'+str(int(10*lamb))+'/'\n",
    "def pickle_corr_location(phi0, lamb, type):\n",
    "    return pickle_file + 'th_correlator_type'+type+'_phi0'+str(int(20*np.pi/phi0))+'_lambda'+str(int(10*lamb))\n",
    "def thrcorr_file(type, threshold, phi0, lamb):\n",
    "    return pickle_file+'thcorr_type'+str(type)+'_threshold'+str(threshold)+'_for_phi0{:.4f}'.format(phi0)+'_lamb{:.4f}'.format(lamb)+'.npy'\n",
    "\n",
    "def data_file_1D(data_vec, xstep, multiplier, phi0, lamb, filter, deltat):\n",
    "    x = ''\n",
    "    for type in data_vec:\n",
    "        x += str(type) #'null_'+\n",
    "    return pickle_file+'1d_type'+x+'_xstep'+str(xstep)+'_deltat'+str(deltat)+'_multiplier'+str(multiplier)+'_phi0{:.4f}'.format(phi0)+'_lamb{:.4f}'.format(lamb)+'_filter{:.4f}'.format(filter)+'.npy'\n",
    "def data_file_2D(type, xstep, tstep, phi0, lamb, filter):\n",
    "    return pickle_file+'2d_type'+str(type)+'_xstep'+str(xstep)+'_tstep'+str(tstep)+'_for_phi0{:.4f}'.format(phi0)+'_lamb{:.4f}'.format(lamb)+'_filter{:.4f}'.format(filter)+'.npy'\n",
    "\n",
    "def positive_data_file(phi0, lamb, minSim, maxSim, multiplier, filter):\n",
    "    pickle = pickle_location(phi0, lamb)\n",
    "    suffix = sim_suffix(phi0, lamb)\n",
    "    return pickle+'positive_targets_sims'+str(minSim)+'_to'+str(maxSim-1)+'_multiplier'+str(multiplier)+'_filter{:.4f}'.format(filter)+suffix+'.npy'\n",
    "def negative_data_file(phi0, lamb, minSim, maxSim, multiplier, filter):\n",
    "    pickle = pickle_location(phi0, lamb)\n",
    "    suffix = sim_suffix(phi0, lamb)\n",
    "    return pickle+'negative_targets_sims'+str(minSim)+'_to'+str(maxSim-1)+'_multiplier'+str(multiplier)+'_filter{:.4f}'.format(filter)+suffix+'.npy'\n",
    "\n",
    "def round_to_n(x, n):\n",
    "    return x if x == 0 else round(x, -int(math.floor(math.log10(abs(x)))) + (n - 1))\n",
    "\n",
    "def import_all_data(lamb, phi0, multiplier, filter):\n",
    "    postlist = np.concatenate(tuple([np.load(positive_data_file(phi0, lamb, minSim, maxSim, multiplier, filter)) for minSim, maxSim in zip(splitdata, splitdata[1:])]))\n",
    "    negtlist = np.concatenate(tuple([np.load(negative_data_file(phi0, lamb, minSim, maxSim, multiplier, filter)) for minSim, maxSim in zip(splitdata, splitdata[1:])]))\n",
    "    postlist = [[i for i in simlist if i[0] > tcheck(lamb)] for simlist in postlist]\n",
    "    negtlist = [[i for i in simlist if i[0] > tcheck(lamb)] for simlist in negtlist]\n",
    "    return postlist, negtlist"
   ]
  },
  {
   "cell_type": "code",
   "execution_count": 6,
   "metadata": {},
   "outputs": [
    {
     "name": "stdout",
     "output_type": "stream",
     "text": [
      "[4.658106296918165, 4.759673735059503, 4.861241173200842]\n",
      "[1.51651364 1.61808108 1.71964852]\n"
     ]
    },
    {
     "data": {
      "image/png": "[encoded data removed]",
      "text/plain": [
       "<Figure size 504x288 with 1 Axes>"
      ]
     },
     "metadata": {
      "needs_background": "light"
     },
     "output_type": "display_data"
    }
   ],
   "source": [
    "def V(phi, lamb=1.5):\n",
    "    return ( -np.cos(phi) + 0.5 * lamb**2 * np.sin(phi)**2 ) * 4 * nu\n",
    "right_phi_at_V_max = sco.minimize_scalar(lambda x: -V(x), bounds=[np.pi, 2*np.pi], method='bounded')\n",
    "\n",
    "list_multiplier, list_threshold= [], []\n",
    "list_type = ['++', '--', '++--', '+-', '-+']\n",
    "thcorr = ['++', 'foo', '++--', '+-', 'foo']\n",
    "list_data_plot = [0, 2, 1]\n",
    "list_title_type = [r'$\\xi^{++}_{bb}(t,r)$', r'$\\xi^{--}_{bb}(t,r)$', r'$\\xi^{overall}_{bb}(t,r)$', r'$\\xi^{+-}_{bb}(t,r)$', r'$\\xi^{-+}_{bb}(t,r)$']\n",
    "\n",
    "list_phi0 = [2*np.pi/6.6, 2*np.pi/7., 2*np.pi/6.6]#[1:2]\n",
    "list_phi0_title = np.asarray(list_phi0)*np.sqrt(2)\n",
    "list_lamb = [1.5, 1.5, 1.6]#[1:2]\n",
    "\n",
    "filter_size1 = 39.39920611359256/4.\n",
    "filter_size2 = 20.597556445406827\n",
    "filter_size3 = 39.39920611359256\n",
    "\n",
    "list_multiplier, list_threshold= [], []\n",
    "for multiplier in [0.2, 0.25, 0.3]:\n",
    "#for multiplier in [0.1, 0.2, 0.3]:\n",
    "    threshold = right_phi_at_V_max.x + np.abs(right_phi_at_V_max.x-2*phi_initial)*multiplier\n",
    "    list_multiplier.append(multiplier)\n",
    "    list_threshold.append(threshold)\n",
    "print(list_threshold)\n",
    "print((np.asarray(list_threshold)-np.pi))\n",
    "\n",
    "def Rrange(min, max, step):\n",
    "    return np.arange(min, max+1, step)\n",
    "def Trange(min, max, step):\n",
    "    return np.arange(min, max+1, step)\n",
    "\n",
    "fig, ax = plt.subplots(figsize=(7,4))\n",
    "plt.plot([i for i in np.arange(-np.pi/2, 3.5*phi_initial, phi_initial/100)], [V(i) for i in np.arange(-np.pi/2, 3.5*phi_initial, phi_initial/100)])\n",
    "[plt.plot(i, V(i), 'o', ms = 7) for i in list_threshold]\n",
    "ax.tick_params(direction='in', width='1')\n",
    "plt.plot(3*np.pi, V(3*np.pi), 'ko')\n",
    "plt.xlabel(r'$\\phi$', fontsize=14); plt.ylabel(r'$V(\\phi)$', fontsize=14); plt.show()"
   ]
  },
  {
   "cell_type": "markdown",
   "metadata": {},
   "source": [
    "### Correlation Functions"
   ]
  },
  {
   "cell_type": "code",
   "execution_count": 7,
   "metadata": {},
   "outputs": [],
   "source": [
    "def get_numdens(data, multiplier, threshold, phi0, lamb, filter):\n",
    "    PositiveTargets, NegativeTargets = import_all_data(lamb, phi0, multiplier, filter)\n",
    "    simVol = nLat * tTime(lamb)\n",
    "    if data == 0:\n",
    "        allTargets = PositiveTargets + NegativeTargets\n",
    "        nSims = len(allTargets)\n",
    "        nBubs = np.asarray([len(ii) for ii in allTargets])\n",
    "    elif data == 1:\n",
    "        allTargets = [PositiveTargets[sim] + NegativeTargets[sim] for sim in range(len(PositiveTargets))]\n",
    "        nSims = len(allTargets)\n",
    "        nBubs = np.asarray([len(ii) for ii in allTargets])\n",
    "    elif data == 2:\n",
    "        allTargets = PositiveTargets + NegativeTargets\n",
    "        nSims = len(allTargets)\n",
    "        nBubs = np.asarray([len(ii)+1 for ii in allTargets])\n",
    "    return sum(nBubs) / nSims / simVol"
   ]
  },
  {
   "cell_type": "code",
   "execution_count": 8,
   "metadata": {},
   "outputs": [],
   "source": [
    "def correlator(lamb, data, PositiveTargets, NegativeTargets, R, RR, T, TT, bubNDens):\n",
    "    DCorrelator = []\n",
    "    if data == 0:\n",
    "        allTargets = PositiveTargets + NegativeTargets\n",
    "    elif data == 1:\n",
    "        allTargets = [PositiveTargets[sim] + NegativeTargets[sim] for sim in range(len(PositiveTargets))]\n",
    "\n",
    "    area = 2 * np.abs(RR-R) * np.abs(TT-T)\n",
    "    for sim in range(len(allTargets)):\n",
    "        bubbleCoords = np.asarray(allTargets[sim])\n",
    "        nBubbles = len(bubbleCoords)\n",
    "        bubCounter = 0.\n",
    "\n",
    "#        nullCoords = np.asarray(list(OrderedDict.fromkeys(random.choices(np.arange(int(nLat//2)), k = 50*nBubbles))))\n",
    "#        nNull = len(nullCoords)\n",
    "#                nndx = np.abs(bubbleCoords[bubloc,1] - nullCoords[:])\n",
    "#                nullCounter += len([l for l in range(len(nndx)) if (R <= nndx[l] < RR)])\n",
    "#            if nullCounter > 0:\n",
    "#                DCorrelator.append( (bubCounter * nNull) / (nullCounter * nBubbles) )\n",
    "\n",
    "        if nBubbles > 0:\n",
    "            for bubloc in range(nBubbles):\n",
    "                bdt = bubbleCoords[bubloc,0] - bubbleCoords[:,0]\n",
    "                bdx = np.abs(bubbleCoords[bubloc,1] - bubbleCoords[:,1])\n",
    "                bdx[bdx > nLat//2] = nLat - bdx[bdx > nLat//2]\n",
    "                bubCounter += len([l for l in range(len(bdx)) if (R <= bdx[l] < RR and T <= bdt[l] < TT)])\n",
    "            DCorrelator.append( bubCounter / nBubbles )\n",
    "    return np.mean(DCorrelator) / area / bubNDens - 1.\n",
    "\n",
    "def mixed_correlator(lamb, PositiveTargets, NegativeTargets, R, RR, T, TT, bubNDens):\n",
    "    DCorrelator = []\n",
    "    area = 2 * np.abs(RR-R) * np.abs(TT-T)\n",
    "    for sim in range(len(PositiveTargets)):\n",
    "        posBubbleCoords, negBubbleCoords = np.asarray(PositiveTargets[sim]), np.asarray(NegativeTargets[sim])\n",
    "        nPosBubbles, nNegBubbles = len(posBubbleCoords), len(negBubbleCoords)\n",
    "        bubCounterN, bubCounterP = 0., 0.\n",
    "\n",
    "        if nPosBubbles > 0 and nNegBubbles > 1:\n",
    "            for bubloc in range(nPosBubbles):\n",
    "                pbdt = posBubbleCoords[bubloc,0] - negBubbleCoords[:,0]\n",
    "                pbdx = np.abs(posBubbleCoords[bubloc,1] - negBubbleCoords[:,1])\n",
    "                pbdx[pbdx > nLat//2] = nLat - pbdx[pbdx > nLat//2]\n",
    "                bubCounterN += len([l for l in range(len(pbdx)) if (R <= pbdx[l] < RR and T <= pbdt[l] < TT)])\n",
    "            DCorrelator.append( bubCounterN / (nNegBubbles + 1.) )\n",
    "\n",
    "        if nPosBubbles > 1 and nNegBubbles > 0:\n",
    "            for bubloc in range(nNegBubbles):\n",
    "                nbdt = negBubbleCoords[bubloc,0] - posBubbleCoords[:,0]\n",
    "                nbdx = np.abs(negBubbleCoords[bubloc,1] - posBubbleCoords[:,1])\n",
    "                nbdx[nbdx > nLat//2] = nLat - nbdx[nbdx > nLat//2]\n",
    "                bubCounterP += len([l for l in range(len(nbdx)) if (R <= nbdx[l] < RR and T <= nbdt[l] < TT)])\n",
    "            DCorrelator.append( bubCounterP / (nPosBubbles + 1.) )\n",
    "    return np.mean(DCorrelator) / area / bubNDens - 1.\n",
    "    \n",
    "def empirical_corr_and_err(data, phi0, lamb, multiplier, filter, R, RR, T, TT, simStep, nDensGlobal):\n",
    "    counter = []\n",
    "    PositiveTargets, NegativeTargets = import_all_data(lamb, phi0, multiplier, filter)\n",
    "    batches = np.arange(0, len(PositiveTargets)+1, simStep)\n",
    "    for sim_min, sim_max in zip(batches[:-1:], batches[1:]):\n",
    "        posTGS = PositiveTargets[sim_min:sim_max]\n",
    "        negTGS = NegativeTargets[sim_min:sim_max]\n",
    "        if data in [0, 1]:\n",
    "            counter.append(correlator(lamb, data, posTGS, negTGS, R, RR, T, TT, nDensGlobal))\n",
    "        else:\n",
    "            counter.append(mixed_correlator(lamb, posTGS, negTGS, R, RR, T, TT, nDensGlobal))\n",
    "    return np.nanmean(counter), np.std(counter)/np.sqrt(len(counter))\n",
    "\n",
    "def correlation_functions(multiplier, threshold, phi0, lamb, filter, data_vec, xrange, T, TT, simStep):\n",
    "    corr_vec = []\n",
    "    for data in data_vec:\n",
    "        nDensGlobal = get_numdens(data, multiplier, threshold, phi0, lamb, filter)\n",
    "        res = [empirical_corr_and_err(data, phi0, lamb, multiplier, filter, R, RR, T, TT, simStep, nDensGlobal) for R, RR in zip(xrange[:-1:], xrange[1:])]\n",
    "        corr_vec.append(res)\n",
    "    return np.asarray(corr_vec)\n",
    "\n",
    "def spacetime_correlator(phi0, lamb, filter, data, xrange, trange):\n",
    "    valmin, valmax = 0, 0\n",
    "    matrix_vec = []\n",
    "    for multiplier, threshold in zip(list_multiplier, list_threshold):\n",
    "        PositiveTargets, NegativeTargets = import_all_data(lamb, phi0, multiplier, filter)\n",
    "        matrix = np.asarray([[-1.]*len(xrange[:-1])]*len(trange[:-1]))\n",
    "        nDensGlobal = [get_numdens(data, multiplier, threshold, phi0, lamb, filter) for data in [0,1,2]]\n",
    "        for tind in range(len(trange[:-1])):\n",
    "            T, TT = trange[:-1][tind], trange[1:][tind]\n",
    "            for xind in range(len(xrange[:-1])):\n",
    "                R, RR = xrange[:-1][xind], xrange[1:][xind]\n",
    "                if data in [0, 1]:\n",
    "                    corr_func = correlator(lamb, data, PositiveTargets, NegativeTargets, R, RR, T, TT, nDensGlobal[data])\n",
    "                else:\n",
    "                    corr_func = mixed_correlator(lamb, PositiveTargets, NegativeTargets, R, RR, T, TT, nDensGlobal[data])\n",
    "                matrix[tind, xind] = corr_func\n",
    "        matrix_vec.append(matrix)\n",
    "    return np.asarray(matrix_vec)"
   ]
  },
  {
   "cell_type": "markdown",
   "metadata": {},
   "source": [
    "### One-Dimensional Correlators "
   ]
  },
  {
   "cell_type": "code",
   "execution_count": 2,
   "metadata": {},
   "outputs": [],
   "source": [
    "xmin = 1\n",
    "xmax = nLat//8\n",
    "Tmin = 0\n",
    "Tmax = 1\n",
    "\n",
    "for xstep, smoothing in zip([20, 40, 80][::], [filter_size1, filter_size2, filter_size3][::]):\n",
    "    xrange = Rrange(xmin, xmax, xstep)\n",
    "    for multiplier, threshold in zip(list_multiplier[:], list_threshold[:]):\n",
    "        data_vec = [0,1,2]\n",
    "        for phi0, lamb in zip(list_phi0, list_lamb):\n",
    "            corr_data = correlation_functions(multiplier, threshold, phi0, lamb, smoothing, data_vec, xrange, Tmin, Tmax, simStep)\n",
    "            np.save(data_file_1D(data_vec, xstep, multiplier, phi0, lamb, smoothing, np.abs(Tmax-Tmin)), corr_data)\n",
    "            print('Done')"
   ]
  },
  {
   "cell_type": "markdown",
   "metadata": {},
   "source": [
    "### Two-Dimensional Correlators "
   ]
  },
  {
   "cell_type": "code",
   "execution_count": 1,
   "metadata": {},
   "outputs": [],
   "source": [
    "#xmax = 400\n",
    "#xmin = 1\n",
    "#tmax = 71\n",
    "#tmin = -70\n",
    "#tstep = 3\n",
    "#trange = Trange(tmin, tmax, tstep)\n",
    "\n",
    "#for xstep, smoothing in zip([5, 10][:1], [filter_size1, filter_size2][:1]):\n",
    "#    xrange = Rrange(xmin, xmax, xstep)\n",
    "#    for phi0, lamb in zip(list_phi0[1::], list_lamb[1::]):\n",
    "#        corr_data = spacetime_correlator(phi0, lamb, smoothing, 0, xrange, trange)\n",
    "#       np.save(data_file_2D(0, xstep, tstep, phi0, lamb, smoothing), corr_data)\n",
    "#        print('Done')"
   ]
  },
  {
   "cell_type": "code",
   "execution_count": null,
   "metadata": {},
   "outputs": [],
   "source": []
  }
 ],
 "metadata": {
  "kernelspec": {
   "display_name": "Python 3.7 (conda) - recommended",
   "language": "python",
   "name": "python37-conda"
  },
  "language_info": {
   "codemirror_mode": {
    "name": "ipython",
    "version": 3
   },
   "file_extension": ".py",
   "mimetype": "text/x-python",
   "name": "python",
   "nbconvert_exporter": "python",
   "pygments_lexer": "ipython3",
   "version": "3.7.16"
  }
 },
 "nbformat": 4,
 "nbformat_minor": 4
}
